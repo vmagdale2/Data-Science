{
 "cells": [
  {
   "cell_type": "markdown",
   "id": "047bd507-a944-48a4-b01a-3d772c96d812",
   "metadata": {},
   "source": [
    "# Data Science Tools and Ecosystems "
   ]
  },
  {
   "cell_type": "markdown",
   "id": "b7b18cc2-1461-4ad9-99ac-f6731205e75f",
   "metadata": {},
   "source": [
    "In this notebook, data Science Tools and Ecosystems are summarized. "
   ]
  },
  {
   "cell_type": "markdown",
   "id": "996c8bb3-901a-4c9b-bc84-0d68dbcbd8b9",
   "metadata": {},
   "source": [
    "__Objectives:__\n",
    "+ Create a Jupyter Notebook\n",
    "+ Create markdown cell with title of the notebook\n",
    "+ Create a markdown cell for an introduction\n",
    "+ Create a markdown cell to list data science languages\n",
    "+ Create a markdown cell to list data science libraries"
   ]
  },
  {
   "cell_type": "markdown",
   "id": "97d32a19-ac14-4eea-a19f-fbf75a67f396",
   "metadata": {},
   "source": [
    "Some of the popular languages that Data Scientists use are: \n",
    "1. Python\n",
    "2. SQL\n",
    "3. R\n",
    "4. Java\n",
    "5. Scala\n",
    "6. C++\n",
    "7. JavaScript"
   ]
  },
  {
   "cell_type": "markdown",
   "id": "79c43f3e-9fca-4120-b8e7-b09a39b377ee",
   "metadata": {},
   "source": [
    "Some of the commonly used libraries used to Data Scientists include: \n",
    "- ggplot2\n",
    "- tidyverse\n",
    "- stringr"
   ]
  },
  {
   "cell_type": "markdown",
   "id": "e711e020-19a0-4799-8f2b-979b082f0333",
   "metadata": {},
   "source": [
    "| Data Science Tools |\n",
    "|:------------------:|\n",
    "| GoogleColab |\n",
    "| Apache Spark |\n",
    "| Github |"
   ]
  },
  {
   "cell_type": "markdown",
   "id": "d4a3128a-6d6c-4171-b0dd-8d7621b1c024",
   "metadata": {},
   "source": [
    "### Below are a few examples of evaluating arithmetic expressions in Python"
   ]
  },
  {
   "cell_type": "code",
   "execution_count": 14,
   "id": "8a652ff8-c12a-4748-a1a8-4c9c61be3d1c",
   "metadata": {},
   "outputs": [],
   "source": [
    "x = 5\n",
    "y = 10"
   ]
  },
  {
   "cell_type": "code",
   "execution_count": 16,
   "id": "296f9599-796c-420e-a1d5-a6e2f5a0ead0",
   "metadata": {},
   "outputs": [
    {
     "data": {
      "text/plain": [
       "15"
      ]
     },
     "execution_count": 16,
     "metadata": {},
     "output_type": "execute_result"
    }
   ],
   "source": [
    "x+y"
   ]
  },
  {
   "cell_type": "code",
   "execution_count": 18,
   "id": "09a886fe-434c-42bf-b397-987fcc29331b",
   "metadata": {},
   "outputs": [
    {
     "data": {
      "text/plain": [
       "99840"
      ]
     },
     "execution_count": 18,
     "metadata": {},
     "output_type": "execute_result"
    }
   ],
   "source": [
    "((52*40)*4)*12"
   ]
  },
  {
   "cell_type": "code",
   "execution_count": 22,
   "id": "27c88eed-844d-49d1-8b87-62139115d576",
   "metadata": {},
   "outputs": [],
   "source": [
    "c = 3*x+y"
   ]
  },
  {
   "cell_type": "code",
   "execution_count": 24,
   "id": "68f06a87-cddf-458f-ab46-ef541c9ba74b",
   "metadata": {},
   "outputs": [
    {
     "data": {
      "text/plain": [
       "25"
      ]
     },
     "execution_count": 24,
     "metadata": {},
     "output_type": "execute_result"
    }
   ],
   "source": [
    "c"
   ]
  },
  {
   "cell_type": "markdown",
   "id": "fcef6355-61d0-4dda-92b5-9abd2cebff13",
   "metadata": {},
   "source": [
    "<!-- This a simple arithmetic expression to multiply then add integers  -->"
   ]
  },
  {
   "cell_type": "code",
   "execution_count": 32,
   "id": "1a785c8e-3c86-49d4-adb3-760173b3b15a",
   "metadata": {},
   "outputs": [
    {
     "data": {
      "text/plain": [
       "17"
      ]
     },
     "execution_count": 32,
     "metadata": {},
     "output_type": "execute_result"
    }
   ],
   "source": [
    "(3*4)+5"
   ]
  },
  {
   "cell_type": "markdown",
   "id": "4f3f40c1-abf4-4edc-9128-4153cf6af50a",
   "metadata": {},
   "source": [
    "<!-- This will convert 200 minutes to hours by dividing by 60 --->"
   ]
  },
  {
   "cell_type": "code",
   "execution_count": 59,
   "id": "967cb59f-256e-4a88-b3ee-f615d7da05e1",
   "metadata": {},
   "outputs": [],
   "source": [
    "x = 200/60"
   ]
  },
  {
   "cell_type": "code",
   "execution_count": 61,
   "id": "dc5eded2-abe6-4887-b2e0-23a0a76bc14b",
   "metadata": {},
   "outputs": [
    {
     "data": {
      "text/plain": [
       "3.3333333333333335"
      ]
     },
     "execution_count": 61,
     "metadata": {},
     "output_type": "execute_result"
    }
   ],
   "source": [
    "x"
   ]
  },
  {
   "cell_type": "markdown",
   "id": "d7a1cf4e-c4db-46f5-a5f2-d3434a41c36d",
   "metadata": {},
   "source": [
    "## Author\n",
    "Vero"
   ]
  },
  {
   "cell_type": "code",
   "execution_count": null,
   "id": "0ea8fa95-e157-45b4-965e-263618321d61",
   "metadata": {},
   "outputs": [],
   "source": []
  }
 ],
 "metadata": {
  "kernelspec": {
   "display_name": "Python 3 (ipykernel)",
   "language": "python",
   "name": "python3"
  },
  "language_info": {
   "codemirror_mode": {
    "name": "ipython",
    "version": 3
   },
   "file_extension": ".py",
   "mimetype": "text/x-python",
   "name": "python",
   "nbconvert_exporter": "python",
   "pygments_lexer": "ipython3",
   "version": "3.12.7"
  }
 },
 "nbformat": 4,
 "nbformat_minor": 5
}
